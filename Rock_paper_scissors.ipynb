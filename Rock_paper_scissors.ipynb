{
  "nbformat": 4,
  "nbformat_minor": 0,
  "metadata": {
    "colab": {
      "name": "Rock paper scissors.ipynb",
      "provenance": []
    },
    "kernelspec": {
      "name": "python3",
      "display_name": "Python 3"
    }
  },
  "cells": [
    {
      "cell_type": "code",
      "metadata": {
        "id": "bLsoYxGK0dwz",
        "colab_type": "code",
        "colab": {
          "base_uri": "https://localhost:8080/",
          "height": 136
        },
        "outputId": "58a9ecde-9e37-42a8-8e28-385380d415af"
      },
      "source": [
        "def validate(hand):\n",
        "    if hand < 0 or hand > 2:\n",
        "        return False\n",
        "    return True\n",
        "\n",
        "def print_hand(hand, name='Guest'):\n",
        "    hands = ['Rock', 'Paper', 'Scissors']\n",
        "    print(name + ' picked: ' + hands[hand])\n",
        "\n",
        "# Define the judge function\n",
        "def judge(player, computer):\n",
        "    # Add control flow based on the comparison of player and computer\n",
        "    if player == computer:\n",
        "        return 'Draw'\n",
        "    elif player == 0 and computer == 1:\n",
        "        return 'Lose'\n",
        "    elif player == 1 and computer == 2:\n",
        "        return 'Lose'\n",
        "    elif player == 2 and computer == 0:\n",
        "        return 'Lose'\n",
        "    else:\n",
        "        return 'Win'\n",
        "\n",
        "print('Starting the Rock Paper Scissors game!')\n",
        "player_name = input('Please enter your name: ')\n",
        "\n",
        "print('Pick a hand: (0: Rock, 1: Paper, 2: Scissors)')\n",
        "player_hand = int(input('Please enter a number (0-2): '))\n",
        "\n",
        "if validate(player_hand):\n",
        "    computer_hand = 1\n",
        "    \n",
        "    print_hand(player_hand, player_name)\n",
        "    print_hand(computer_hand, 'Computer')\n",
        "    \n",
        "    # Assign the return value of judge to the result variable\n",
        "    result = judge(player_hand, computer_hand)\n",
        "    # Print the result variable\n",
        "    print('Result: ' + result)\n",
        "else:\n",
        "    print('Please enter a valid number')\n"
      ],
      "execution_count": 3,
      "outputs": [
        {
          "output_type": "stream",
          "text": [
            "Starting the Rock Paper Scissors game!\n",
            "Please enter your name: s\n",
            "Pick a hand: (0: Rock, 1: Paper, 2: Scissors)\n",
            "Please enter a number (0-2): 2\n",
            "s picked: Scissors\n",
            "Computer picked: Paper\n",
            "Result: Win\n"
          ],
          "name": "stdout"
        }
      ]
    }
  ]
}